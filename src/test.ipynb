{
 "cells": [
  {
   "cell_type": "code",
   "execution_count": 1,
   "metadata": {},
   "outputs": [],
   "source": [
    "import pandas as pd"
   ]
  },
  {
   "cell_type": "code",
   "execution_count": 25,
   "metadata": {},
   "outputs": [],
   "source": [
    "observation_prompts = pd.read_csv(\"../data/observation_prompts.csv\", index_col=0)\n",
    "sequence = pd.read_csv(\"../data/sequence.csv\", index_col=0)"
   ]
  },
  {
   "cell_type": "code",
   "execution_count": null,
   "metadata": {},
   "outputs": [
    {
     "data": {
      "text/plain": [
       "'Two people remain absorbed in their tasks and do not seem to notice my actions at all.'"
      ]
     },
     "execution_count": 8,
     "metadata": {},
     "output_type": "execute_result"
    }
   ],
   "source": [
    "observation_prompts.loc[\"o1\"][\"prompt\"]"
   ]
  },
  {
   "cell_type": "code",
   "execution_count": null,
   "metadata": {},
   "outputs": [],
   "source": [
    "def replace_observations(observation_prompts: pd.DataFrame, sequence: pd.DataFrame):\n",
    "    observation_prompts = observation_prompts.copy()\n",
    "    sequence[sequence.columns] = sequence[sequence.columns].map(lambda x: observation_prompts.loc[x][\"prompt\"])"
   ]
  },
  {
   "cell_type": "code",
   "execution_count": 35,
   "metadata": {},
   "outputs": [
    {
     "name": "stdout",
     "output_type": "stream",
     "text": [
      "['Two people remain absorbed in their tasks and do not seem to notice my actions at all.', 'Two people remain absorbed in their tasks and do not seem to notice my actions at all.', 'Two people remain absorbed in their tasks and do not seem to notice my actions at all.', 'Two people remain absorbed in their tasks and do not seem to notice my actions at all.', 'Two people remain absorbed in their tasks and do not seem to notice my actions at all.', 'Two people remain absorbed in their tasks and do not seem to notice my actions at all.', 'Two people remain absorbed in their tasks and do not seem to notice my actions at all.', 'Two people remain absorbed in their tasks and do not seem to notice my actions at all.', 'Two people remain absorbed in their tasks and do not seem to notice my actions at all.', 'Two people remain absorbed in their tasks and do not seem to notice my actions at all.']\n",
      "['Two people remain absorbed in their tasks and do not seem to notice my actions at all.', 'Two people remain absorbed in their tasks and do not seem to notice my actions at all.', 'One person glances at the robot once and then gets back to their tasks.', 'Two people remain absorbed in their tasks and do not seem to notice my actions at all.', 'Two people remain absorbed in their tasks and do not seem to notice my actions at all.', 'One person glances at the robot once and then gets back to their tasks.', 'Two people remain absorbed in their tasks and do not seem to notice my actions at all.', 'Two people remain absorbed in their tasks and do not seem to notice my actions at all.', 'Two people remain absorbed in their tasks and do not seem to notice my actions at all.', 'Two people remain absorbed in their tasks and do not seem to notice my actions at all.']\n",
      "['Two people remain absorbed in their tasks and do not seem to notice my actions at all.', 'One person glances at the robot once and then gets back to their tasks.', 'Two people stop their tasks, lift their heads, and smile at me. They seem curious about what I am doing.', 'Two people stop their tasks, lift their heads, and smile at me. They seem curious about what I am doing.', 'Two people stop their tasks, lift their heads, and smile at me. They seem curious about what I am doing.', 'Two people stop their tasks, lift their heads, and smile at me. They seem curious about what I am doing.', 'Two people stop their tasks, lift their heads, and smile at me. They seem curious about what I am doing.', 'Two people stop their tasks, lift their heads, and smile at me. They seem curious about what I am doing.', 'Two people stop their tasks, lift their heads, and smile at me. They seem curious about what I am doing.', 'Two people stop their tasks, lift their heads, and smile at me. They seem curious about what I am doing.']\n",
      "['Two people remain absorbed in their tasks and do not seem to notice my actions at all.', 'Two people stop their tasks, lift their heads, and smile at me. They seem curious about what I am doing.', 'Two people stop their tasks, lift their heads, and smile at me. They seem curious about what I am doing.', 'Two people stop their tasks, lift their heads, and smile at me. They seem curious about what I am doing.', 'One person faces the other, and the other notices and smiles back.', 'One person faces the other, and the other notices and smiles back.', 'One person faces the other, and the other notices and smiles back.', 'One person faces the other, and the other notices and smiles back.', 'One person faces the other, and the other notices and smiles back.', 'One person faces the other, and the other notices and smiles back.']\n",
      "['Two people remain absorbed in their tasks and do not seem to notice my actions at all.', 'One person glances at the other, but the other person does not seem to notice them.', 'Two people remain absorbed in their tasks and do not seem to notice my actions at all.', 'One person glances at the robot once and then gets back to their tasks.', 'Two people stop their tasks, lift their heads, and smile at me. They seem curious about what I am doing.', 'Two people stop their tasks, lift their heads, and smile at me. They seem curious about what I am doing.', 'Two people remain absorbed in their tasks and do not seem to notice my actions at all.', 'Two people remain absorbed in their tasks and do not seem to notice my actions at all.', 'Two people remain absorbed in their tasks and do not seem to notice my actions at all.', 'Two people remain absorbed in their tasks and do not seem to notice my actions at all.']\n"
     ]
    }
   ],
   "source": [
    "for row in sequence.iterrows():\n",
    "    print(list(row[1]))"
   ]
  },
  {
   "cell_type": "code",
   "execution_count": null,
   "metadata": {},
   "outputs": [],
   "source": []
  }
 ],
 "metadata": {
  "kernelspec": {
   "display_name": "mirror_bot",
   "language": "python",
   "name": "python3"
  },
  "language_info": {
   "codemirror_mode": {
    "name": "ipython",
    "version": 3
   },
   "file_extension": ".py",
   "mimetype": "text/x-python",
   "name": "python",
   "nbconvert_exporter": "python",
   "pygments_lexer": "ipython3",
   "version": "3.10.13"
  }
 },
 "nbformat": 4,
 "nbformat_minor": 2
}
